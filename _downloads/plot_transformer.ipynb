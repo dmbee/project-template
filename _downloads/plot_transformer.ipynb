{
  "nbformat_minor": 0, 
  "nbformat": 4, 
  "cells": [
    {
      "execution_count": null, 
      "cell_type": "code", 
      "source": [
        "%matplotlib inline"
      ], 
      "outputs": [], 
      "metadata": {
        "collapsed": false
      }
    }, 
    {
      "source": [
        "\n# Plotting Template Transformer\n\n\nAn example plot of :class:`skltemplate.template.TemplateTransformer`\n\n"
      ], 
      "cell_type": "markdown", 
      "metadata": {}
    }, 
    {
      "execution_count": null, 
      "cell_type": "code", 
      "source": [
        "import numpy as np\nfrom skltemplate import TemplateTransformer\nfrom matplotlib import pyplot as plt\n\nX = np.arange(50, dtype=np.float).reshape(-1, 1)\nX /= 50\nestimator = TemplateTransformer()\nX_transformed = estimator.fit_transform(X)\n\nplt.plot(X.flatten(), label='Original Data')\nplt.plot(X_transformed.flatten(), label='Transformed Data')\nplt.title('Plots of original and transformed data')\n\nplt.legend(loc='best')\nplt.grid(True)\nplt.xlabel('Index')\nplt.ylabel('Value of Data')\n\nplt.show()"
      ], 
      "outputs": [], 
      "metadata": {
        "collapsed": false
      }
    }
  ], 
  "metadata": {
    "kernelspec": {
      "display_name": "Python 2", 
      "name": "python2", 
      "language": "python"
    }, 
    "language_info": {
      "mimetype": "text/x-python", 
      "nbconvert_exporter": "python", 
      "name": "python", 
      "file_extension": ".py", 
      "version": "2.7.11", 
      "pygments_lexer": "ipython2", 
      "codemirror_mode": {
        "version": 2, 
        "name": "ipython"
      }
    }
  }
}