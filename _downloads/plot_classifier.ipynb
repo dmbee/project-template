{
  "nbformat_minor": 0, 
  "nbformat": 4, 
  "cells": [
    {
      "execution_count": null, 
      "cell_type": "code", 
      "source": [
        "%matplotlib inline"
      ], 
      "outputs": [], 
      "metadata": {
        "collapsed": false
      }
    }, 
    {
      "source": [
        "\n# Plotting Template Classifier\n\n\nAn example plot of :class:`skltemplate.template.TemplateClassifier`\n\n"
      ], 
      "cell_type": "markdown", 
      "metadata": {}
    }, 
    {
      "execution_count": null, 
      "cell_type": "code", 
      "source": [
        "import numpy as np\nfrom skltemplate import TemplateClassifier\nfrom matplotlib import pyplot as plt\n\n\nX = [[0, 0], [1, 1]]\ny = [0, 1]\nclf = TemplateClassifier()\nclf.fit(X, y)\n\nrng = np.random.RandomState(13)\nX_test = rng.rand(500, 2)\ny_pred = clf.predict(X_test)\n\nX_0 = X_test[y_pred == 0]\nX_1 = X_test[y_pred == 1]\n\n\np0 = plt.scatter(0, 0, c='red', s=100)\np1 = plt.scatter(1, 1, c='blue', s=100)\n\nax0 = plt.scatter(X_0[:, 0], X_0[:, 1], c='crimson', s=50)\nax1 = plt.scatter(X_1[:, 0], X_1[:, 1], c='deepskyblue', s=50)\n\nleg = plt.legend([p0, p1, ax0, ax1],\n                 ['Point 0', 'Point 1', 'Class 0', 'Class 1'],\n                 loc='upper left', fancybox=True, scatterpoints=1)\nleg.get_frame().set_alpha(0.5)\n\nplt.xlabel('Feature 1')\nplt.ylabel('Feature 2')\nplt.xlim([-.5, 1.5])\n\nplt.show()"
      ], 
      "outputs": [], 
      "metadata": {
        "collapsed": false
      }
    }
  ], 
  "metadata": {
    "kernelspec": {
      "display_name": "Python 2", 
      "name": "python2", 
      "language": "python"
    }, 
    "language_info": {
      "mimetype": "text/x-python", 
      "nbconvert_exporter": "python", 
      "name": "python", 
      "file_extension": ".py", 
      "version": "2.7.11", 
      "pygments_lexer": "ipython2", 
      "codemirror_mode": {
        "version": 2, 
        "name": "ipython"
      }
    }
  }
}